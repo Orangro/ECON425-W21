{
 "metadata": {
  "language_info": {
   "codemirror_mode": {
    "name": "ipython",
    "version": 3
   },
   "file_extension": ".py",
   "mimetype": "text/x-python",
   "name": "python",
   "nbconvert_exporter": "python",
   "pygments_lexer": "ipython3",
   "version": "3.7.4-final"
  },
  "orig_nbformat": 2,
  "kernelspec": {
   "name": "python3",
   "display_name": "Python 3",
   "language": "python"
  }
 },
 "nbformat": 4,
 "nbformat_minor": 2,
 "cells": [
  {
   "source": [
    "# Week 2: Introduction to Numpy and Pandas\n",
    "\n",
    "Numpy and Pandas are some of the most important data science libraries in python. \n",
    "\n"
   ],
   "cell_type": "markdown",
   "metadata": {}
  },
  {
   "source": [
    "import numpy as np"
   ],
   "cell_type": "code",
   "metadata": {},
   "execution_count": 4,
   "outputs": []
  },
  {
   "source": [
    "In numpy we will work with numpy arrays, which are similar to lists. Numpy arrays are optimized for data tasks and for effeciency. First, we initialize an array"
   ],
   "cell_type": "markdown",
   "metadata": {}
  },
  {
   "cell_type": "code",
   "execution_count": 5,
   "metadata": {},
   "outputs": [
    {
     "output_type": "stream",
     "name": "stdout",
     "text": [
      "['First Element' 'Second Element' 'Third Element']\n<class 'numpy.ndarray'>\n[ True  True  True]\n"
     ]
    }
   ],
   "source": [
    "# We can initialize an array from a list\n",
    "a = np.array(['First Element','Second Element','Third Element'])\n",
    "print(a)\n",
    "print(type(a))\n",
    "\n",
    "lst = ['First Element','Second Element','Third Element']\n",
    "aTest = np.array(lst)\n",
    "print(a == aTest)"
   ]
  },
  {
   "source": [
    "Numpy arrays can work similarly to lists. We can loop over them:"
   ],
   "cell_type": "markdown",
   "metadata": {}
  },
  {
   "cell_type": "code",
   "execution_count": 6,
   "metadata": {},
   "outputs": [
    {
     "output_type": "stream",
     "name": "stdout",
     "text": [
      "First Element\nSecond Element\nThird Element\n"
     ]
    }
   ],
   "source": [
    "for i in a:\n",
    "    print(i)"
   ]
  },
  {
   "source": [
    "And they are indexed similarly"
   ],
   "cell_type": "markdown",
   "metadata": {}
  },
  {
   "cell_type": "code",
   "execution_count": 7,
   "metadata": {},
   "outputs": [
    {
     "output_type": "stream",
     "name": "stdout",
     "text": [
      "First Element\nSecond Element\nThird Element\n"
     ]
    },
    {
     "output_type": "error",
     "ename": "IndexError",
     "evalue": "index 3 is out of bounds for axis 0 with size 3",
     "traceback": [
      "\u001b[0;31m---------------------------------------------------------------------------\u001b[0m",
      "\u001b[0;31mIndexError\u001b[0m                                Traceback (most recent call last)",
      "\u001b[0;32m<ipython-input-7-a9bb74723f5f>\u001b[0m in \u001b[0;36m<module>\u001b[0;34m\u001b[0m\n\u001b[1;32m      2\u001b[0m \u001b[0mprint\u001b[0m\u001b[0;34m(\u001b[0m\u001b[0ma\u001b[0m\u001b[0;34m[\u001b[0m\u001b[0;36m1\u001b[0m\u001b[0;34m]\u001b[0m\u001b[0;34m)\u001b[0m\u001b[0;34m\u001b[0m\u001b[0;34m\u001b[0m\u001b[0m\n\u001b[1;32m      3\u001b[0m \u001b[0mprint\u001b[0m\u001b[0;34m(\u001b[0m\u001b[0ma\u001b[0m\u001b[0;34m[\u001b[0m\u001b[0;36m2\u001b[0m\u001b[0;34m]\u001b[0m\u001b[0;34m)\u001b[0m\u001b[0;34m\u001b[0m\u001b[0;34m\u001b[0m\u001b[0m\n\u001b[0;32m----> 4\u001b[0;31m \u001b[0mprint\u001b[0m\u001b[0;34m(\u001b[0m\u001b[0ma\u001b[0m\u001b[0;34m[\u001b[0m\u001b[0;36m3\u001b[0m\u001b[0;34m]\u001b[0m\u001b[0;34m)\u001b[0m\u001b[0;34m\u001b[0m\u001b[0;34m\u001b[0m\u001b[0m\n\u001b[0m",
      "\u001b[0;31mIndexError\u001b[0m: index 3 is out of bounds for axis 0 with size 3"
     ]
    }
   ],
   "source": [
    "print(a[0])\n",
    "print(a[1])\n",
    "print(a[2])\n",
    "print(a[3])"
   ]
  },
  {
   "source": [
    "*But* they have some properties that make them easier to work with than lists for data science.\n"
   ],
   "cell_type": "markdown",
   "metadata": {}
  },
  {
   "cell_type": "code",
   "execution_count": 8,
   "metadata": {},
   "outputs": [
    {
     "output_type": "stream",
     "name": "stdout",
     "text": [
      "[3 6 9]\n[ 4 10 18]\n[ 2.71828183  7.3890561  20.08553692]\n[1. 2. 3.]\n"
     ]
    }
   ],
   "source": [
    "# Multiplication works as we might like\n",
    "first = np.array([1,2,3])\n",
    "second = np.array([4,5,6])\n",
    "print(3*first)\n",
    "print(first*second)\n",
    "\n",
    "# More generally, we can apply functions to the whole array\n",
    "firstExp = np.exp(first)\n",
    "print(firstExp)\n",
    "reverse = np.log(firstExp)\n",
    "print(reverse)\n",
    "\n"
   ]
  },
  {
   "source": [
    "We can use numpy to tell us the shape of the array and to create multi-dimensional arrays. "
   ],
   "cell_type": "markdown",
   "metadata": {}
  },
  {
   "source": [
    "array2d = np.array([[1,2,3],[4,5,6]])\n",
    "print(array2d)\n",
    "print(array2d.shape)"
   ],
   "cell_type": "code",
   "metadata": {},
   "execution_count": 20,
   "outputs": [
    {
     "output_type": "stream",
     "name": "stdout",
     "text": [
      "[[1 2 3]\n [4 5 6]]\n(2, 3)\n"
     ]
    }
   ]
  },
  {
   "source": [
    "As well as to create arrays of zeros and ones:\n",
    "\n"
   ],
   "cell_type": "markdown",
   "metadata": {}
  },
  {
   "cell_type": "code",
   "execution_count": 26,
   "metadata": {},
   "outputs": [
    {
     "output_type": "stream",
     "name": "stdout",
     "text": [
      "[0. 0.]\n[[0. 0. 0. 0.]\n [0. 0. 0. 0.]\n [0. 0. 0. 0.]\n [0. 0. 0. 0.]\n [0. 0. 0. 0.]]\n[1. 1. 1. 1. 1. 1. 1. 1. 1. 1. 1. 1. 1.]\n[[1. 1. 1. 1. 1. 1.]\n [1. 1. 1. 1. 1. 1.]]\n"
     ]
    }
   ],
   "source": [
    "zeros = np.zeros(2)\n",
    "print(zeros)\n",
    "zeros2d = np.zeros([5,4])\n",
    "print(zeros2d)\n",
    "\n",
    "ones = np.ones(13)\n",
    "print(ones)\n",
    "ones2d = np.ones([2,6])\n",
    "print(ones2d)"
   ]
  },
  {
   "source": [
    "We can treat these arrays just like vectors and/or matrices. For any two real vectors $u = (u_1, \\dots u_p)$ and $v = (v_1, \\dots, v_p)$, their dot product is given:\n",
    "$$u \\cdot v = \\sum_{i=1}^p u_i v_i$$\n",
    "\n",
    "So if $u = (1,-1,1)$ and $v = (2,5,3)$, we would expect \n",
    "$$u\\cdot v = 2 - 5 + 3  = 0$$\n",
    "(Note that if $u\\cdot v = 0$, we say that $u$ and $v$ are *orthogonal*)\n"
   ],
   "cell_type": "markdown",
   "metadata": {}
  },
  {
   "cell_type": "code",
   "execution_count": 13,
   "metadata": {},
   "outputs": [
    {
     "output_type": "stream",
     "name": "stdout",
     "text": [
      "0\n"
     ]
    }
   ],
   "source": [
    "u = np.array([1,-1,1])\n",
    "v = np.array([2,5,3])\n",
    "print(np.dot(u,v))"
   ]
  },
  {
   "source": [
    "We can also treat multi-dimensional arrays as matrices. For example, for a square ($p \\times p$) matrix, $X$, we may be interested in it's inverse (if it exits). The inverse of a matrix is a matrix $X^{-1}$ satisfying\n",
    "\\begin{equation}\n",
    "    XX^{-1} = I_{p\\times p}\n",
    "\\end{equation}\n",
    "The matrix inverse exists and is unique whenever the determinant of a matrix is 0, $det(X)=0$. \n",
    "\n",
    "If $X$ is a $2 \\times 2$ matrix, \n",
    "\\begin{equation*}\n",
    "    X = \\begin{bmatrix} a & b \\\\ c & d \\end{bmatrix}\n",
    "\\end{equation*}\n",
    "then its determinant is given by \n",
    "\\begin{equation}\n",
    "    det(X) = \\frac{1}{ad - bc}\n",
    "\\end{equation}\n",
    "and, whenever the determinant is not 0, we can calculate the matrix inverse:\n",
    "\\begin{equation}\n",
    "    X^{-1} = \\frac{1}{ad - bc}\\begin{bmatrix} d & -b \\\\ -c & a \\end{bmatrix}\n",
    "\\end{equation}\n",
    "So that (as an example):\n",
    "\\begin{align*}\n",
    "    X = \\begin{bmatrix} 4 & 7 \\\\ 2 & 6 \\end{bmatrix} \\implies X^{-1} &= \\frac{1}{4\\cdot 6 - 7\\cdot 2}\\begin{bmatrix}  6 & -7 \\\\ -2 & 4 \\end{bmatrix} \\\\\n",
    "    X^{-1} &= \\begin{bmatrix} 0.6 & -0.7 \\\\ -0.2 & 0.4 \\end{bmatrix}\n",
    "\\end{align*}\n"
   ],
   "cell_type": "markdown",
   "metadata": {}
  },
  {
   "cell_type": "code",
   "execution_count": 16,
   "metadata": {},
   "outputs": [
    {
     "output_type": "stream",
     "name": "stdout",
     "text": [
      "[[4 7]\n [2 6]]\n"
     ]
    }
   ],
   "source": [
    "X = np.array([[4 , 7], [2 , 6]]) \n",
    "print(X)"
   ]
  },
  {
   "cell_type": "code",
   "execution_count": 19,
   "metadata": {},
   "outputs": [
    {
     "output_type": "stream",
     "name": "stdout",
     "text": [
      "[[ 0.6 -0.7]\n [-0.2  0.4]]\n[[ 1.  0.]\n [-0.  1.]]\n"
     ]
    }
   ],
   "source": [
    "Xinv = np.linalg.inv(X)\n",
    "print(Xinv)\n",
    "\n",
    "# Test that this returns the identity matrix\n",
    "test = np.dot(X,Xinv)\n",
    "print(np.round(test, 2))"
   ]
  },
  {
   "source": [
    "This sort of matrix inversion is especially useful when we are computing inverses of large matrices, as we have to do when we are conducting linear regression or fitting other machine learning models.  \n",
    "\n",
    "\n",
    "\n"
   ],
   "cell_type": "markdown",
   "metadata": {}
  },
  {
   "source": [
    "## Introduction to Pandas\n",
    "\n",
    "Pandas builds off of numpy and is used to handle datasets. To find a specific dataset to use we are going to import one from the seaborn library. \n",
    "\n",
    "Once we read in a dataframe, we can use the '.head()' method to take look at the first few observations and see the variable names/features. \n"
   ],
   "cell_type": "markdown",
   "metadata": {}
  },
  {
   "cell_type": "code",
   "execution_count": 36,
   "metadata": {},
   "outputs": [
    {
     "output_type": "execute_result",
     "data": {
      "text/plain": [
       "   sepal_length  sepal_width  petal_length  petal_width species\n",
       "0           5.1          3.5           1.4          0.2  setosa\n",
       "1           4.9          3.0           1.4          0.2  setosa\n",
       "2           4.7          3.2           1.3          0.2  setosa\n",
       "3           4.6          3.1           1.5          0.2  setosa\n",
       "4           5.0          3.6           1.4          0.2  setosa"
      ],
      "text/html": "<div>\n<style scoped>\n    .dataframe tbody tr th:only-of-type {\n        vertical-align: middle;\n    }\n\n    .dataframe tbody tr th {\n        vertical-align: top;\n    }\n\n    .dataframe thead th {\n        text-align: right;\n    }\n</style>\n<table border=\"1\" class=\"dataframe\">\n  <thead>\n    <tr style=\"text-align: right;\">\n      <th></th>\n      <th>sepal_length</th>\n      <th>sepal_width</th>\n      <th>petal_length</th>\n      <th>petal_width</th>\n      <th>species</th>\n    </tr>\n  </thead>\n  <tbody>\n    <tr>\n      <td>0</td>\n      <td>5.1</td>\n      <td>3.5</td>\n      <td>1.4</td>\n      <td>0.2</td>\n      <td>setosa</td>\n    </tr>\n    <tr>\n      <td>1</td>\n      <td>4.9</td>\n      <td>3.0</td>\n      <td>1.4</td>\n      <td>0.2</td>\n      <td>setosa</td>\n    </tr>\n    <tr>\n      <td>2</td>\n      <td>4.7</td>\n      <td>3.2</td>\n      <td>1.3</td>\n      <td>0.2</td>\n      <td>setosa</td>\n    </tr>\n    <tr>\n      <td>3</td>\n      <td>4.6</td>\n      <td>3.1</td>\n      <td>1.5</td>\n      <td>0.2</td>\n      <td>setosa</td>\n    </tr>\n    <tr>\n      <td>4</td>\n      <td>5.0</td>\n      <td>3.6</td>\n      <td>1.4</td>\n      <td>0.2</td>\n      <td>setosa</td>\n    </tr>\n  </tbody>\n</table>\n</div>"
     },
     "metadata": {},
     "execution_count": 36
    }
   ],
   "source": [
    "import pandas as pd\n",
    "import seaborn as sns\n",
    "# pd.read_csv(\"~path/to/data\")\n",
    "iris = sns.load_dataset('iris')\n",
    "iris.head()\n",
    "\n"
   ]
  },
  {
   "source": [
    "The '.count()' method will give us the number of non-empty entries in each column"
   ],
   "cell_type": "markdown",
   "metadata": {}
  },
  {
   "source": [
    "print(iris.count())"
   ],
   "cell_type": "code",
   "metadata": {},
   "execution_count": 38,
   "outputs": [
    {
     "output_type": "stream",
     "name": "stdout",
     "text": [
      "sepal_length    150\nsepal_width     150\npetal_length    150\npetal_width     150\nspecies         150\ndtype: int64\n"
     ]
    }
   ]
  },
  {
   "source": [
    "You can access specific columns by indexing the data frame by the feature name"
   ],
   "cell_type": "markdown",
   "metadata": {}
  },
  {
   "cell_type": "code",
   "execution_count": 42,
   "metadata": {},
   "outputs": [
    {
     "output_type": "stream",
     "name": "stdout",
     "text": [
      "0      5.1\n1      4.9\n2      4.7\n3      4.6\n4      5.0\n      ... \n145    6.7\n146    6.3\n147    6.5\n148    6.2\n149    5.9\nName: sepal_length, Length: 150, dtype: float64\n"
     ]
    }
   ],
   "source": [
    "sepal_length = iris['sepal_length']\n",
    "sepal_width = iris['sepal_width']\n",
    "print(sepal_length)"
   ]
  },
  {
   "source": [],
   "cell_type": "markdown",
   "metadata": {}
  }
 ]
}